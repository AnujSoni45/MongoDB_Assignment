{
 "cells": [
  {
   "cell_type": "code",
   "execution_count": null,
   "id": "8da53d03-aedb-40c3-a23d-3691bc2c5789",
   "metadata": {},
   "outputs": [],
   "source": [
    "Q1. What is MongoDB? Explain non-relational databases in short. In which scenarios it is preferred to use MongoDB over SQL databases? \n"
   ]
  },
  {
   "cell_type": "code",
   "execution_count": null,
   "id": "be02f6c9-4a68-4cd8-9820-cb6f249586be",
   "metadata": {},
   "outputs": [],
   "source": [
    "(Answer):\n",
    "MongoDB is a popular open-source NoSQL database management system that is designed to handle unstructured or \n",
    "semi-structured data. It falls under the category of non-relational databases and is known for its flexibility, \n",
    "scalability, and ease of use. MongoDB stores data in a JSON-like format called BSON (Binary JSON), which allows \n",
    "for efficient storage and retrieval of complex data structures.\n",
    "\n",
    "Non-Relational Databases:\n",
    "Non-relational databases, often referred to as NoSQL databases, are designed to store and manage data in ways \n",
    "that differ from traditional relational databases. They provide flexible data models, horizontal scalability, \n",
    "and high-performance characteristics, making them suitable for handling large volumes of rapidly changing or \n",
    "unstructured data.\n",
    "\n",
    "MongoDB is preferred over SQL databases in various scenarios due to its unique characteristics and advantages: Such as\n",
    "Flexible Schema\n",
    "Unstructured Data\n",
    "Scalability\n",
    "Complex Data\n",
    "Agile Development\n",
    "Real-Time Analytis"
   ]
  },
  {
   "cell_type": "code",
   "execution_count": null,
   "id": "3eefe637-0acf-4f5e-a8bb-3b8f3fa13ecd",
   "metadata": {},
   "outputs": [],
   "source": [
    "Q2. State and Explain the features of MongoDB. \n"
   ]
  },
  {
   "cell_type": "code",
   "execution_count": null,
   "id": "f1b3532f-8b7f-4552-a277-46806b2c78f1",
   "metadata": {},
   "outputs": [],
   "source": [
    "(Answer):\n",
    "MongoDB is a popular NoSQL database management system that offers several features designed to address the\n",
    "needs of modern applications and scalable data storage. Here are some key features of MongoDB:\n",
    "    \n",
    "Document-Oriented:\n",
    "MongoDB is a document-oriented database, which means it stores data in JSON-like documents called BSON (Binary JSON). Each document can have a different structure, allowing flexibility in data modeling without the need for a fixed schema.\n",
    "\n",
    "Schema Flexibility:\n",
    "MongoDB offers dynamic and schema-free data modeling. You can change the structure of documents without affecting existing data, making it well-suited for applications with evolving requirements.\n",
    "\n",
    "Horizontal Scalability:\n",
    "MongoDB supports horizontal scaling through sharding, allowing you to distribute data across multiple servers or nodes. This enables handling large volumes of data and high-velocity workloads.\n",
    "\n",
    "Automatic Sharding:\n",
    "MongoDB's automatic sharding simplifies the process of distributing data across shards. It automatically manages data distribution and balancing as the dataset grows.\n",
    "\n",
    "High Performance:\n",
    "MongoDB is designed for high performance and low latency. It uses memory-mapped files and provides built-in caching for efficient data retrieval."
   ]
  },
  {
   "cell_type": "code",
   "execution_count": null,
   "id": "215c32b9-fe86-4309-95a7-d2723376274c",
   "metadata": {},
   "outputs": [],
   "source": [
    "Q3. Write a code to connect MongoDB to Python. Also, create a database and a collection in MongoDB. \n"
   ]
  },
  {
   "cell_type": "code",
   "execution_count": null,
   "id": "107f627c-8a68-4312-8e92-0b48c45cb935",
   "metadata": {},
   "outputs": [],
   "source": [
    "(Answer):\n",
    "Install the library using the following command:\n",
    "    pip install pymongo    "
   ]
  },
  {
   "cell_type": "code",
   "execution_count": null,
   "id": "4e3ad432-ea06-4533-aeb4-07cadbadad37",
   "metadata": {},
   "outputs": [],
   "source": [
    "import pymongo\n",
    "\n",
    "# Establish a connection to the MongoDB server\n",
    "client = pymongo.MongoClient(\"mongodb://localhost:27017/\")\n",
    "\n",
    "# Create a new database named \"mydatabase\"\n",
    "mydb = client[\"mydatabase\"]\n",
    "\n",
    "# Create a new collection named \"customers\" within the \"mydatabase\" database\n",
    "customers = mydb[\"customers\"]\n",
    "\n",
    "# Define a document to insert into the \"customers\" collection\n",
    "customer_data = {\n",
    "    \"name\": \"John Doe\",\n",
    "    \"email\": \"john@example.com\",\n",
    "    \"age\": 30\n",
    "}\n",
    "\n",
    "# Insert the document into the \"customers\" collection\n",
    "inserted_document = customers.insert_one(customer_data)\n",
    "\n",
    "# Print the ID of the inserted document\n",
    "print(\"Inserted document ID:\", inserted_document.inserted_id)\n",
    "\n",
    "# Close the connection to the MongoDB server\n",
    "client.close()\n"
   ]
  },
  {
   "cell_type": "code",
   "execution_count": null,
   "id": "6b9046f5-755b-4262-9668-0bca9381a923",
   "metadata": {},
   "outputs": [],
   "source": [
    "Q4. Using the database and the collection created in question number 3, write a code to insert one record, \n",
    "and insert many records. Use the find() and find_one() methods to print the inserted record. \n"
   ]
  },
  {
   "cell_type": "code",
   "execution_count": null,
   "id": "e5c05477-9e6c-4f9f-b401-d48895b3df24",
   "metadata": {},
   "outputs": [],
   "source": [
    "import pymongo\n",
    "\n",
    "# Establish a connection to the MongoDB server\n",
    "client = pymongo.MongoClient(\"mongodb://localhost:27017/\")\n",
    "\n",
    "# Access the \"mydatabase\" database\n",
    "mydb = client[\"mydatabase\"]\n",
    "\n",
    "# Access the \"customers\" collection\n",
    "customers = mydb[\"customers\"]\n",
    "\n",
    "# Insert one record\n",
    "single_customer_data = {\n",
    "    \"name\": \"Jane Smith\",\n",
    "    \"email\": \"jane@example.com\",\n",
    "    \"age\": 28\n",
    "}\n",
    "inserted_single_document = customers.insert_one(single_customer_data)\n",
    "print(\"Inserted single document ID:\", inserted_single_document.inserted_id)\n",
    "\n",
    "# Insert multiple records\n",
    "multiple_customer_data = [\n",
    "    {\"name\": \"Alice Johnson\", \"email\": \"alice@example.com\", \"age\": 35},\n",
    "    {\"name\": \"Bob Williams\", \"email\": \"bob@example.com\", \"age\": 42}\n",
    "]\n",
    "inserted_multiple_documents = customers.insert_many(multiple_customer_data)\n",
    "print(\"Inserted multiple document IDs:\", inserted_multiple_documents.inserted_ids)\n",
    "\n",
    "# Find and print the inserted record using find_one()\n",
    "print(\"Single Inserted Document:\")\n",
    "print(customers.find_one({\"_id\": inserted_single_document.inserted_id}))\n",
    "\n",
    "# Find and print all inserted records using find()\n",
    "print(\"All Inserted Documents:\")\n",
    "for document in customers.find():\n",
    "    print(document)\n",
    "\n",
    "# Close the connection to the MongoDB server\n",
    "client.close()\n",
    "\n",
    "In this code:\n",
    "\n",
    "We establish a connection to the MongoDB server and access the \"mydatabase\" database and \"customers\" collection.\n",
    "We insert one record using the insert_one() method and multiple records using the insert_many() method. \n",
    "The methods return objects containing information about the insertions.\n",
    "We use the find_one() method to retrieve and print the single inserted record based on the _id of the inserted document.\n",
    "We use the find() method to retrieve and print all inserted records in the \"customers\" collection.\n",
    "Finally, we close the connection to the MongoDB server."
   ]
  },
  {
   "cell_type": "code",
   "execution_count": null,
   "id": "ebc5e2d1-4681-4506-8463-8a4d676867f8",
   "metadata": {},
   "outputs": [],
   "source": [
    "Q5. Explain how you can use the find() method to query the MongoDB database. Write a simple code to  demonstrate this. \n"
   ]
  },
  {
   "cell_type": "code",
   "execution_count": null,
   "id": "b57edde9-6ec0-459c-9371-e8fb473919c4",
   "metadata": {},
   "outputs": [],
   "source": [
    "(Answer):\n",
    "The find() method in MongoDB is used to query and retrieve documents from a collection that match certain criteria.\n",
    "It allows you to specify query conditions using key-value pairs to filter the results. The find() method returns \n",
    "a cursor that can be iterated to access the matched documents.\n",
    "Example:"
   ]
  },
  {
   "cell_type": "code",
   "execution_count": null,
   "id": "572a8e29-dc7c-4ea1-beba-fbb10f657e83",
   "metadata": {},
   "outputs": [],
   "source": [
    "import pymongo\n",
    "\n",
    "# Establish a connection to the MongoDB server\n",
    "client = pymongo.MongoClient(\"mongodb://localhost:27017/\")\n",
    "\n",
    "# Access the \"mydatabase\" database\n",
    "mydb = client[\"mydatabase\"]\n",
    "\n",
    "# Access the \"customers\" collection\n",
    "customers = mydb[\"customers\"]\n",
    "\n",
    "# Query for documents where the \"age\" is greater than 30\n",
    "query = {\"age\": {\"$gt\": 30}}\n",
    "\n",
    "# Use the find() method to retrieve matching documents\n",
    "result_cursor = customers.find(query)\n",
    "\n",
    "# Print the matching documents\n",
    "print(\"Matching Documents:\")\n",
    "for document in result_cursor:\n",
    "    print(document)\n",
    "\n",
    "# Close the connection to the MongoDB server\n",
    "client.close()\n"
   ]
  },
  {
   "cell_type": "code",
   "execution_count": null,
   "id": "727eb402-e8f8-4464-9e57-30e0ebce2ed7",
   "metadata": {},
   "outputs": [],
   "source": [
    "Q6. Explain the sort() method. Give an example to demonstrate sorting in MongoDB. \n"
   ]
  },
  {
   "cell_type": "code",
   "execution_count": null,
   "id": "1b34d1c8-881f-48a4-95e4-77b323347070",
   "metadata": {},
   "outputs": [],
   "source": [
    "(Answer):\n",
    "The sort() method in MongoDB is used to specify the sorting order of the results when querying a collection. \n",
    "It allows you to sort the retrieved documents based on one or more fields, either in ascending (1) or descending \n",
    "(-1) order. The sort() method is commonly used to order the results according to a particular criterion, making it\n",
    "easier to analyze and interpret the data.The sort() method in MongoDB is used to specify the sorting order of the\n",
    "results when querying a collection.\n",
    "Example:\n",
    "syntax of the sort() method:\n",
    "    cursor.sort(<field>, <direction>)\n"
   ]
  },
  {
   "cell_type": "code",
   "execution_count": null,
   "id": "f29cdd64-78f9-4f5e-a8d4-0e46530e37ab",
   "metadata": {},
   "outputs": [],
   "source": [
    "import pymongo\n",
    "\n",
    "# Establish a connection to the MongoDB server\n",
    "client = pymongo.MongoClient(\"mongodb://localhost:27017/\")\n",
    "\n",
    "# Access the \"mydatabase\" database\n",
    "mydb = client[\"mydatabase\"]\n",
    "\n",
    "# Access the \"products\" collection\n",
    "products = mydb[\"products\"]\n",
    "\n",
    "# Define the query condition (if needed)\n",
    "query = {\"category\": \"electronics\"}\n",
    "\n",
    "# Retrieve and sort documents based on price in descending order\n",
    "result_cursor = products.find(query).sort(\"price\", -1)\n",
    "\n",
    "# Print the sorted documents\n",
    "print(\"Products Sorted by Price (Descending):\")\n",
    "for document in result_cursor:\n",
    "    print(document)\n",
    "\n",
    "# Close the connection to the MongoDB server\n",
    "client.close()\n"
   ]
  },
  {
   "cell_type": "code",
   "execution_count": null,
   "id": "82c46c29-1836-4cff-a3b2-5db37aa94b97",
   "metadata": {},
   "outputs": [],
   "source": [
    "Q7. Explain why delete_one(), delete_many(), and drop() is used. \n"
   ]
  },
  {
   "cell_type": "code",
   "execution_count": null,
   "id": "a22a271e-f3d9-4900-8d9a-5070ef84fe74",
   "metadata": {},
   "outputs": [],
   "source": [
    "(Answer):\n",
    "In MongoDB, the delete_one(), delete_many(), and drop() methods are used for removing data from a collection or \n",
    "even dropping an entire collection from the database. Each of these methods serves a specific purpose in terms of \n",
    "data removal and management:\n",
    "delete_one() Method:\n",
    "The delete_one() method is used to delete a single document that matches a specific query from a collection. It removes the first document that satisfies the given query condition.\n",
    "\n",
    "Syntax:\n",
    "    collection.delete_one(<query>)\n",
    "\n"
   ]
  },
  {
   "cell_type": "code",
   "execution_count": null,
   "id": "66f955b6-77bb-46d8-b6cb-421da59f9076",
   "metadata": {},
   "outputs": [],
   "source": []
  }
 ],
 "metadata": {
  "kernelspec": {
   "display_name": "Python 3 (ipykernel)",
   "language": "python",
   "name": "python3"
  },
  "language_info": {
   "codemirror_mode": {
    "name": "ipython",
    "version": 3
   },
   "file_extension": ".py",
   "mimetype": "text/x-python",
   "name": "python",
   "nbconvert_exporter": "python",
   "pygments_lexer": "ipython3",
   "version": "3.10.8"
  }
 },
 "nbformat": 4,
 "nbformat_minor": 5
}
